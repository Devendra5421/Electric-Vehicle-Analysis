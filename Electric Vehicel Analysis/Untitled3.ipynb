{
 "cells": [
  {
   "cell_type": "code",
   "execution_count": 1,
   "id": "7716c05b",
   "metadata": {},
   "outputs": [],
   "source": [
    "import pandas as pd\n",
    "import numpy as np\n",
    "import matplotlib.pyplot as plt\n",
    "import seaborn as sns"
   ]
  },
  {
   "cell_type": "code",
   "execution_count": 2,
   "id": "f30e4f9e",
   "metadata": {},
   "outputs": [],
   "source": [
    "\n",
    "# Read the CSV files\n",
    "ev_makers = pd.read_csv('electric_vehicle_sales_by_makers.csv', encoding='UTF-8-SIG')\n",
    "ev_states = pd.read_csv('electric_vehicle_sales_by_state.csv', encoding='UTF-8-SIG')\n",
    "dim_date = pd.read_csv('dim_date.csv', encoding='UTF-8-SIG')"
   ]
  },
  {
   "cell_type": "code",
   "execution_count": 3,
   "id": "afdbd26f",
   "metadata": {},
   "outputs": [],
   "source": [
    "from powerbiclient import QuickVisualize,Report,models\n",
    "from io import StringIO\n",
    "from powerbiclient.authentication import DeviceCodeLoginAuthentication"
   ]
  },
  {
   "cell_type": "code",
   "execution_count": 4,
   "id": "59646d34",
   "metadata": {},
   "outputs": [
    {
     "data": {
      "text/html": [
       "<div>\n",
       "<style scoped>\n",
       "    .dataframe tbody tr th:only-of-type {\n",
       "        vertical-align: middle;\n",
       "    }\n",
       "\n",
       "    .dataframe tbody tr th {\n",
       "        vertical-align: top;\n",
       "    }\n",
       "\n",
       "    .dataframe thead th {\n",
       "        text-align: right;\n",
       "    }\n",
       "</style>\n",
       "<table border=\"1\" class=\"dataframe\">\n",
       "  <thead>\n",
       "    <tr style=\"text-align: right;\">\n",
       "      <th></th>\n",
       "      <th>date</th>\n",
       "      <th>vehicle_category</th>\n",
       "      <th>maker</th>\n",
       "      <th>electric_vehicles_sold</th>\n",
       "      <th>fiscal_year</th>\n",
       "      <th>quarter</th>\n",
       "    </tr>\n",
       "  </thead>\n",
       "  <tbody>\n",
       "    <tr>\n",
       "      <th>0</th>\n",
       "      <td>01-Apr-21</td>\n",
       "      <td>2-Wheelers</td>\n",
       "      <td>OLA ELECTRIC</td>\n",
       "      <td>0</td>\n",
       "      <td>2022</td>\n",
       "      <td>Q1</td>\n",
       "    </tr>\n",
       "    <tr>\n",
       "      <th>1</th>\n",
       "      <td>01-Apr-21</td>\n",
       "      <td>4-Wheelers</td>\n",
       "      <td>BYD India</td>\n",
       "      <td>0</td>\n",
       "      <td>2022</td>\n",
       "      <td>Q1</td>\n",
       "    </tr>\n",
       "  </tbody>\n",
       "</table>\n",
       "</div>"
      ],
      "text/plain": [
       "        date vehicle_category         maker  electric_vehicles_sold  \\\n",
       "0  01-Apr-21       2-Wheelers  OLA ELECTRIC                       0   \n",
       "1  01-Apr-21       4-Wheelers     BYD India                       0   \n",
       "\n",
       "   fiscal_year quarter  \n",
       "0         2022      Q1  \n",
       "1         2022      Q1  "
      ]
     },
     "execution_count": 4,
     "metadata": {},
     "output_type": "execute_result"
    }
   ],
   "source": [
    "merged_df = pd.merge(ev_makers, dim_date, on='date')\n",
    "merged_df.head(2)"
   ]
  },
  {
   "cell_type": "code",
   "execution_count": 5,
   "id": "2150793e",
   "metadata": {},
   "outputs": [
    {
     "name": "stdout",
     "output_type": "stream",
     "text": [
      "Performing device flow authentication. Please follow the instructions below.\n",
      "To sign in, use a web browser to open the page https://microsoft.com/devicelogin and enter the code S6WBNZS8X to authenticate.\n"
     ]
    },
    {
     "ename": "RuntimeError",
     "evalue": "Authentication failed. Try again.\nDetails: AADSTS70016: OAuth 2.0 device flow error. Authorization is pending. Continue polling. Trace ID: a7556fe1-5bcb-4965-bf52-dbfd835b0e00 Correlation ID: c196785b-3cd4-4889-9b42-7ec85d135df2 Timestamp: 2024-08-08 10:41:20Z",
     "output_type": "error",
     "traceback": [
      "\u001b[1;31m---------------------------------------------------------------------------\u001b[0m",
      "\u001b[1;31mRuntimeError\u001b[0m                              Traceback (most recent call last)",
      "Cell \u001b[1;32mIn[5], line 1\u001b[0m\n\u001b[1;32m----> 1\u001b[0m device_auth \u001b[38;5;241m=\u001b[39m DeviceCodeLoginAuthentication()\n",
      "File \u001b[1;32m~\\anaconda3\\Lib\\site-packages\\powerbiclient\\authentication.py:78\u001b[0m, in \u001b[0;36mDeviceCodeLoginAuthentication.__init__\u001b[1;34m(self, tenant_id)\u001b[0m\n\u001b[0;32m     76\u001b[0m \u001b[38;5;28msuper\u001b[39m()\u001b[38;5;241m.\u001b[39m\u001b[38;5;21m__init__\u001b[39m()\n\u001b[0;32m     77\u001b[0m CheckGlobalAuth()\n\u001b[1;32m---> 78\u001b[0m \u001b[38;5;28mself\u001b[39m\u001b[38;5;241m.\u001b[39m_acquire_token_device_code(tenant_id)\n",
      "File \u001b[1;32m~\\anaconda3\\Lib\\site-packages\\powerbiclient\\authentication.py:110\u001b[0m, in \u001b[0;36mDeviceCodeLoginAuthentication._acquire_token_device_code\u001b[1;34m(self, tenant_id)\u001b[0m\n\u001b[0;32m    108\u001b[0m \u001b[38;5;28;01melse\u001b[39;00m:\n\u001b[0;32m    109\u001b[0m     error_message \u001b[38;5;241m=\u001b[39m \u001b[38;5;124mf\u001b[39m\u001b[38;5;124m\"\u001b[39m\u001b[38;5;124mAuthentication failed. Try again.\u001b[39m\u001b[38;5;130;01m\\n\u001b[39;00m\u001b[38;5;124mDetails: \u001b[39m\u001b[38;5;132;01m{\u001b[39;00mresult\u001b[38;5;241m.\u001b[39mget(\u001b[38;5;124m'\u001b[39m\u001b[38;5;124merror_description\u001b[39m\u001b[38;5;124m'\u001b[39m)\u001b[38;5;132;01m}\u001b[39;00m\u001b[38;5;124m\"\u001b[39m\n\u001b[1;32m--> 110\u001b[0m     \u001b[38;5;28;01mraise\u001b[39;00m \u001b[38;5;167;01mRuntimeError\u001b[39;00m(error_message)\n",
      "\u001b[1;31mRuntimeError\u001b[0m: Authentication failed. Try again.\nDetails: AADSTS70016: OAuth 2.0 device flow error. Authorization is pending. Continue polling. Trace ID: a7556fe1-5bcb-4965-bf52-dbfd835b0e00 Correlation ID: c196785b-3cd4-4889-9b42-7ec85d135df2 Timestamp: 2024-08-08 10:41:20Z"
     ]
    }
   ],
   "source": [
    "device_auth = DeviceCodeLoginAuthentication()"
   ]
  },
  {
   "cell_type": "code",
   "execution_count": null,
   "id": "b8bf6a53",
   "metadata": {},
   "outputs": [],
   "source": []
  },
  {
   "cell_type": "code",
   "execution_count": 8,
   "id": "2ce19a9b",
   "metadata": {},
   "outputs": [
    {
     "data": {
      "text/html": [
       "<div>\n",
       "<style scoped>\n",
       "    .dataframe tbody tr th:only-of-type {\n",
       "        vertical-align: middle;\n",
       "    }\n",
       "\n",
       "    .dataframe tbody tr th {\n",
       "        vertical-align: top;\n",
       "    }\n",
       "\n",
       "    .dataframe thead th {\n",
       "        text-align: right;\n",
       "    }\n",
       "</style>\n",
       "<table border=\"1\" class=\"dataframe\">\n",
       "  <thead>\n",
       "    <tr style=\"text-align: right;\">\n",
       "      <th></th>\n",
       "      <th>date</th>\n",
       "      <th>vehicle_category_x</th>\n",
       "      <th>maker</th>\n",
       "      <th>electric_vehicles_sold_x</th>\n",
       "      <th>fiscal_year</th>\n",
       "      <th>quarter</th>\n",
       "      <th>state</th>\n",
       "      <th>vehicle_category_y</th>\n",
       "      <th>electric_vehicles_sold_y</th>\n",
       "      <th>total_vehicles_sold</th>\n",
       "    </tr>\n",
       "  </thead>\n",
       "  <tbody>\n",
       "    <tr>\n",
       "      <th>0</th>\n",
       "      <td>01-Apr-21</td>\n",
       "      <td>2-Wheelers</td>\n",
       "      <td>OLA ELECTRIC</td>\n",
       "      <td>0</td>\n",
       "      <td>2022</td>\n",
       "      <td>Q1</td>\n",
       "      <td>Sikkim</td>\n",
       "      <td>2-Wheelers</td>\n",
       "      <td>0</td>\n",
       "      <td>398</td>\n",
       "    </tr>\n",
       "    <tr>\n",
       "      <th>1</th>\n",
       "      <td>01-Apr-21</td>\n",
       "      <td>2-Wheelers</td>\n",
       "      <td>OLA ELECTRIC</td>\n",
       "      <td>0</td>\n",
       "      <td>2022</td>\n",
       "      <td>Q1</td>\n",
       "      <td>Sikkim</td>\n",
       "      <td>4-Wheelers</td>\n",
       "      <td>0</td>\n",
       "      <td>361</td>\n",
       "    </tr>\n",
       "  </tbody>\n",
       "</table>\n",
       "</div>"
      ],
      "text/plain": [
       "        date vehicle_category_x         maker  electric_vehicles_sold_x  \\\n",
       "0  01-Apr-21         2-Wheelers  OLA ELECTRIC                         0   \n",
       "1  01-Apr-21         2-Wheelers  OLA ELECTRIC                         0   \n",
       "\n",
       "   fiscal_year quarter   state vehicle_category_y  electric_vehicles_sold_y  \\\n",
       "0         2022      Q1  Sikkim         2-Wheelers                         0   \n",
       "1         2022      Q1  Sikkim         4-Wheelers                         0   \n",
       "\n",
       "   total_vehicles_sold  \n",
       "0                  398  \n",
       "1                  361  "
      ]
     },
     "execution_count": 8,
     "metadata": {},
     "output_type": "execute_result"
    }
   ],
   "source": [
    "merged_dff = pd.merge(merged_df,ev_states, on='date')\n",
    "merged_dff.head(2)"
   ]
  },
  {
   "cell_type": "code",
   "execution_count": null,
   "id": "2c15b5a8",
   "metadata": {},
   "outputs": [],
   "source": [
    "# Create a Power BI report from your data\n",
    "PBI_visualize = QuickVisualize(get_dataset_config(df), auth=device_auth)\n",
    "\n",
    "# Render the new report\n",
    "PBI_visualize"
   ]
  },
  {
   "cell_type": "code",
   "execution_count": 5,
   "id": "13787c26",
   "metadata": {},
   "outputs": [],
   "source": [
    "class Deva:\n",
    "    def name(self):\n",
    "        print(\"My name is Devendra\")\n",
    "        "
   ]
  },
  {
   "cell_type": "code",
   "execution_count": 8,
   "id": "27a864e6",
   "metadata": {},
   "outputs": [
    {
     "name": "stdout",
     "output_type": "stream",
     "text": [
      "Course Information\n"
     ]
    }
   ],
   "source": [
    "class Scaler:\n",
    "    def CourseDetails(self): \n",
    "        print('Course Information')\n",
    "obj = Scaler()\n",
    "obj.CourseDetails()"
   ]
  },
  {
   "cell_type": "code",
   "execution_count": 9,
   "id": "b63447f8",
   "metadata": {},
   "outputs": [
    {
     "name": "stdout",
     "output_type": "stream",
     "text": [
      "Course Information\n"
     ]
    }
   ],
   "source": [
    "Scaler().CourseDetails()"
   ]
  },
  {
   "cell_type": "code",
   "execution_count": null,
   "id": "e036be3e",
   "metadata": {},
   "outputs": [],
   "source": []
  }
 ],
 "metadata": {
  "kernelspec": {
   "display_name": "Python 3 (ipykernel)",
   "language": "python",
   "name": "python3"
  },
  "language_info": {
   "codemirror_mode": {
    "name": "ipython",
    "version": 3
   },
   "file_extension": ".py",
   "mimetype": "text/x-python",
   "name": "python",
   "nbconvert_exporter": "python",
   "pygments_lexer": "ipython3",
   "version": "3.11.4"
  }
 },
 "nbformat": 4,
 "nbformat_minor": 5
}
